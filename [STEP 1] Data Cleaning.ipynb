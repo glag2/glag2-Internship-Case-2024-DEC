{
 "cells": [
  {
   "cell_type": "markdown",
   "metadata": {},
   "source": [
    "# Automotive e-commerce analytics [STEP 1]"
   ]
  },
  {
   "cell_type": "markdown",
   "metadata": {},
   "source": [
    "The current task is to analyze the datasets provided and extract actionable insights that can help the company optimize its sales strategy across different platforms."
   ]
  },
  {
   "cell_type": "markdown",
   "metadata": {},
   "source": [
    "## 1) Import the libraries"
   ]
  },
  {
   "cell_type": "code",
   "execution_count": 1,
   "metadata": {},
   "outputs": [],
   "source": [
    "import pandas as pd\n",
    "import matplotlib.pyplot as plt"
   ]
  },
  {
   "cell_type": "markdown",
   "metadata": {},
   "source": [
    "## 1.1) Define useful variables"
   ]
  },
  {
   "cell_type": "code",
   "execution_count": 2,
   "metadata": {},
   "outputs": [],
   "source": [
    "cars = pd.read_csv('Raw_Data/cars.csv')\n",
    "sales = pd.read_csv('Raw_Data/sales.csv')\n",
    "users = pd.read_csv('Raw_Data/users.csv')\n",
    "visits = pd.read_csv('Raw_Data/visits.csv')"
   ]
  },
  {
   "cell_type": "markdown",
   "metadata": {},
   "source": [
    "## 2) Analyze each file"
   ]
  },
  {
   "cell_type": "markdown",
   "metadata": {},
   "source": [
    "Now we are going to give a fast overview of the avaiable data, the current objective is to clean all the data based on what we expect to be"
   ]
  },
  {
   "cell_type": "markdown",
   "metadata": {},
   "source": [
    "## 2.1) Cars"
   ]
  },
  {
   "cell_type": "markdown",
   "metadata": {},
   "source": [
    "- `car_id`: Unique identifier for the car.\n",
    "- `car_model`: Model of the car.\n",
    "- `fuel_type`: Fuel type of the car.\n",
    "- `release_date`: Date when the car was released.\n",
    "- `price`: Base price of the car."
   ]
  },
  {
   "cell_type": "code",
   "execution_count": 3,
   "metadata": {},
   "outputs": [
    {
     "data": {
      "text/plain": [
       "(12, 5)"
      ]
     },
     "execution_count": 3,
     "metadata": {},
     "output_type": "execute_result"
    }
   ],
   "source": [
    "cars.shape"
   ]
  },
  {
   "cell_type": "markdown",
   "metadata": {},
   "source": [
    "Ok now we know that we don't have that many cars, so if we find something wrong we cannot delete any given row"
   ]
  },
  {
   "cell_type": "code",
   "execution_count": 4,
   "metadata": {},
   "outputs": [
    {
     "data": {
      "text/html": [
       "<div>\n",
       "<style scoped>\n",
       "    .dataframe tbody tr th:only-of-type {\n",
       "        vertical-align: middle;\n",
       "    }\n",
       "\n",
       "    .dataframe tbody tr th {\n",
       "        vertical-align: top;\n",
       "    }\n",
       "\n",
       "    .dataframe thead th {\n",
       "        text-align: right;\n",
       "    }\n",
       "</style>\n",
       "<table border=\"1\" class=\"dataframe\">\n",
       "  <thead>\n",
       "    <tr style=\"text-align: right;\">\n",
       "      <th></th>\n",
       "      <th>car_id</th>\n",
       "      <th>car_model</th>\n",
       "      <th>fuel_type</th>\n",
       "      <th>release_date</th>\n",
       "      <th>price</th>\n",
       "    </tr>\n",
       "  </thead>\n",
       "  <tbody>\n",
       "    <tr>\n",
       "      <th>0</th>\n",
       "      <td>2c192c40-f69f-42e5-9431-41d92558568b</td>\n",
       "      <td>Sierra</td>\n",
       "      <td>Diesel</td>\n",
       "      <td>2013-05-01</td>\n",
       "      <td>35000</td>\n",
       "    </tr>\n",
       "    <tr>\n",
       "      <th>1</th>\n",
       "      <td>d2e63c70-e732-4299-bb0c-ba00b875a4bd</td>\n",
       "      <td>3 Series</td>\n",
       "      <td>Diesel</td>\n",
       "      <td>2014-12-11</td>\n",
       "      <td>40000</td>\n",
       "    </tr>\n",
       "    <tr>\n",
       "      <th>2</th>\n",
       "      <td>00b0c76e-9f2f-41c1-8324-38fbe9c2a8aa</td>\n",
       "      <td>Model i8</td>\n",
       "      <td>Electric</td>\n",
       "      <td>2019-01-01</td>\n",
       "      <td>145000</td>\n",
       "    </tr>\n",
       "    <tr>\n",
       "      <th>3</th>\n",
       "      <td>4abc60d6-73cb-44df-8bde-d8f5936bbdfb</td>\n",
       "      <td>Coupe</td>\n",
       "      <td>Gasoline</td>\n",
       "      <td>2015-08-01</td>\n",
       "      <td>65000</td>\n",
       "    </tr>\n",
       "    <tr>\n",
       "      <th>4</th>\n",
       "      <td>5fae80e1-82d6-45d3-8512-7db7bb32d5bd</td>\n",
       "      <td>Sedan</td>\n",
       "      <td>Gasoline</td>\n",
       "      <td>2018-07-15</td>\n",
       "      <td>45000</td>\n",
       "    </tr>\n",
       "    <tr>\n",
       "      <th>5</th>\n",
       "      <td>4c20c5ec-0d42-46ac-ae0f-cbafeceaca32</td>\n",
       "      <td>Model i7</td>\n",
       "      <td>Electric</td>\n",
       "      <td>2015-03-01</td>\n",
       "      <td>120000</td>\n",
       "    </tr>\n",
       "    <tr>\n",
       "      <th>6</th>\n",
       "      <td>ab72e1ef-639f-4ad0-b9b0-28a50f3c7229</td>\n",
       "      <td>Model iX</td>\n",
       "      <td>Electric</td>\n",
       "      <td>2017-11-10</td>\n",
       "      <td>131000</td>\n",
       "    </tr>\n",
       "    <tr>\n",
       "      <th>7</th>\n",
       "      <td>eee54c45-64fe-462b-b9c2-e23adea76282</td>\n",
       "      <td>1 Series</td>\n",
       "      <td>Diesel</td>\n",
       "      <td>2010-10-01</td>\n",
       "      <td>30000</td>\n",
       "    </tr>\n",
       "    <tr>\n",
       "      <th>8</th>\n",
       "      <td>42a26053-2d52-4926-b19c-ddd4b82c3e75</td>\n",
       "      <td>Touring</td>\n",
       "      <td>Gasoline</td>\n",
       "      <td>2019-02-01</td>\n",
       "      <td>90000</td>\n",
       "    </tr>\n",
       "    <tr>\n",
       "      <th>9</th>\n",
       "      <td>0c048ea4-5e29-419e-a448-99f75742117c</td>\n",
       "      <td>Model M</td>\n",
       "      <td>Gasoline</td>\n",
       "      <td>2016-04-01</td>\n",
       "      <td>70000</td>\n",
       "    </tr>\n",
       "    <tr>\n",
       "      <th>10</th>\n",
       "      <td>c571bf78-719f-451e-8cdb-f8bc7376053e</td>\n",
       "      <td>Model iY</td>\n",
       "      <td>Electric</td>\n",
       "      <td>2014-09-01</td>\n",
       "      <td>72000</td>\n",
       "    </tr>\n",
       "    <tr>\n",
       "      <th>11</th>\n",
       "      <td>0a441025-806f-402e-8699-d7eb988c671f</td>\n",
       "      <td>Tourer</td>\n",
       "      <td>Gasoline</td>\n",
       "      <td>2017-11-01</td>\n",
       "      <td>60000</td>\n",
       "    </tr>\n",
       "  </tbody>\n",
       "</table>\n",
       "</div>"
      ],
      "text/plain": [
       "                                  car_id car_model fuel_type release_date  \\\n",
       "0   2c192c40-f69f-42e5-9431-41d92558568b    Sierra    Diesel   2013-05-01   \n",
       "1   d2e63c70-e732-4299-bb0c-ba00b875a4bd  3 Series    Diesel   2014-12-11   \n",
       "2   00b0c76e-9f2f-41c1-8324-38fbe9c2a8aa  Model i8  Electric   2019-01-01   \n",
       "3   4abc60d6-73cb-44df-8bde-d8f5936bbdfb     Coupe  Gasoline   2015-08-01   \n",
       "4   5fae80e1-82d6-45d3-8512-7db7bb32d5bd     Sedan  Gasoline   2018-07-15   \n",
       "5   4c20c5ec-0d42-46ac-ae0f-cbafeceaca32  Model i7  Electric   2015-03-01   \n",
       "6   ab72e1ef-639f-4ad0-b9b0-28a50f3c7229  Model iX  Electric   2017-11-10   \n",
       "7   eee54c45-64fe-462b-b9c2-e23adea76282  1 Series    Diesel   2010-10-01   \n",
       "8   42a26053-2d52-4926-b19c-ddd4b82c3e75   Touring  Gasoline   2019-02-01   \n",
       "9   0c048ea4-5e29-419e-a448-99f75742117c   Model M  Gasoline   2016-04-01   \n",
       "10  c571bf78-719f-451e-8cdb-f8bc7376053e  Model iY  Electric   2014-09-01   \n",
       "11  0a441025-806f-402e-8699-d7eb988c671f    Tourer  Gasoline   2017-11-01   \n",
       "\n",
       "     price  \n",
       "0    35000  \n",
       "1    40000  \n",
       "2   145000  \n",
       "3    65000  \n",
       "4    45000  \n",
       "5   120000  \n",
       "6   131000  \n",
       "7    30000  \n",
       "8    90000  \n",
       "9    70000  \n",
       "10   72000  \n",
       "11   60000  "
      ]
     },
     "execution_count": 4,
     "metadata": {},
     "output_type": "execute_result"
    }
   ],
   "source": [
    "# thanks to the small size of the data, we can easily see the data\n",
    "cars"
   ]
  },
  {
   "cell_type": "markdown",
   "metadata": {},
   "source": [
    "### 2.1.1) Data checks"
   ]
  },
  {
   "cell_type": "markdown",
   "metadata": {},
   "source": [
    "we need now to ensure that the data is clean and the staements are been respected"
   ]
  },
  {
   "cell_type": "code",
   "execution_count": 5,
   "metadata": {},
   "outputs": [
    {
     "data": {
      "text/plain": [
       "0"
      ]
     },
     "execution_count": 5,
     "metadata": {},
     "output_type": "execute_result"
    }
   ],
   "source": [
    "# we can start by checking if there is any null values in the data\n",
    "cars.isnull().sum().sum()"
   ]
  },
  {
   "cell_type": "code",
   "execution_count": 6,
   "metadata": {},
   "outputs": [
    {
     "data": {
      "text/plain": [
       "car_id          object\n",
       "car_model       object\n",
       "fuel_type       object\n",
       "release_date    object\n",
       "price            int64\n",
       "dtype: object"
      ]
     },
     "execution_count": 6,
     "metadata": {},
     "output_type": "execute_result"
    }
   ],
   "source": [
    "# now we can check the data types of the columns\n",
    "cars.dtypes"
   ]
  },
  {
   "cell_type": "code",
   "execution_count": 7,
   "metadata": {},
   "outputs": [],
   "source": [
    "# convert the release_date column to datetime\n",
    "cars['release_date'] = pd.to_datetime(cars['release_date'])  # we're going to re-apply this in the next notebook"
   ]
  },
  {
   "cell_type": "code",
   "execution_count": 8,
   "metadata": {},
   "outputs": [
    {
     "data": {
      "text/plain": [
       "True"
      ]
     },
     "execution_count": 8,
     "metadata": {},
     "output_type": "execute_result"
    }
   ],
   "source": [
    "# check that all the car_id are unique\n",
    "cars['car_id'].nunique() == cars.shape[0]"
   ]
  },
  {
   "cell_type": "code",
   "execution_count": 9,
   "metadata": {},
   "outputs": [
    {
     "data": {
      "text/plain": [
       "car_id          12\n",
       "car_model       12\n",
       "fuel_type        3\n",
       "release_date    12\n",
       "price           12\n",
       "dtype: int64"
      ]
     },
     "execution_count": 9,
     "metadata": {},
     "output_type": "execute_result"
    }
   ],
   "source": [
    "# Just to be sure we can now check the number of unique values in the other columns\n",
    "cars.nunique()"
   ]
  },
  {
   "cell_type": "markdown",
   "metadata": {},
   "source": [
    "Everything seems right, now we can save the cleaned data to analyze it later"
   ]
  },
  {
   "cell_type": "code",
   "execution_count": 11,
   "metadata": {},
   "outputs": [],
   "source": [
    "# save the cleaned data\n",
    "cars.to_csv('Cleaned_Data/cars.csv', index=False)"
   ]
  },
  {
   "cell_type": "markdown",
   "metadata": {},
   "source": [
    "## 2.2) Sales"
   ]
  },
  {
   "cell_type": "markdown",
   "metadata": {},
   "source": [
    "- `transaction_id`: Unique identifier for the purchase.\n",
    "- `customer_id`: Identifier for the user who made the purchase.\n",
    "- `car_id`: Identifier for the car that was purchased.\n",
    "- `platform`: Platform on which the purchase was made.\n",
    "- `purchase_date`: Date when the purchase was made.\n",
    "- `purchase_price`: Final price at which the car was sold after any discounts.\n",
    "- `user_review`: An optional user review (as a score) given for the platform after each purchase."
   ]
  },
  {
   "cell_type": "markdown",
   "metadata": {},
   "source": [
    "## 2.3) Users"
   ]
  },
  {
   "cell_type": "markdown",
   "metadata": {},
   "source": [
    "- `customer_id`: Unique identifier for the user.\n",
    "- `user_first_name`: First name of the user.\n",
    "- `user_last_name`: Last name of the user.\n",
    "- `gender`: Gender of the user.\n",
    "- `email`: Email address of the user."
   ]
  },
  {
   "cell_type": "markdown",
   "metadata": {},
   "source": [
    "## 2.4) Visits"
   ]
  },
  {
   "cell_type": "markdown",
   "metadata": {},
   "source": [
    "- `visit_id`: Unique identifier for the visit.\n",
    "- `customer_id`: Identifier for the user who made the visit.\n",
    "- `start_timestamp`: Timestamp when the visit started (website entry or dealership entry).\n",
    "- `end_timestamp`: Timestamp when the visit ended.\n",
    "- `visit_type`: Type of visit (e.g., purchasing, car configuration, testing).\n",
    "- `transaction_id`: purchase identifier for purchasing visits."
   ]
  }
 ],
 "metadata": {
  "kernelspec": {
   "display_name": "Python 3",
   "language": "python",
   "name": "python3"
  },
  "language_info": {
   "codemirror_mode": {
    "name": "ipython",
    "version": 3
   },
   "file_extension": ".py",
   "mimetype": "text/x-python",
   "name": "python",
   "nbconvert_exporter": "python",
   "pygments_lexer": "ipython3",
   "version": "3.11.9"
  }
 },
 "nbformat": 4,
 "nbformat_minor": 2
}
